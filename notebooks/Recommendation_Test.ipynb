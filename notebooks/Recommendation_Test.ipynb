{
 "cells": [
  {
   "cell_type": "code",
   "execution_count": 1,
   "id": "e3e53759",
   "metadata": {},
   "outputs": [
    {
     "name": "stderr",
     "output_type": "stream",
     "text": [
      "/Users/anadwi/Documents/Projects/B_Ragi/B_Ragi/venv/lib/python3.9/site-packages/pandas/compat/__init__.py:124: UserWarning: Could not import the lzma module. Your installed Python is incomplete. Attempting to use lzma compression will result in a RuntimeError.\n",
      "  warnings.warn(msg)\n"
     ]
    }
   ],
   "source": [
    "import pandas as pd\n",
    "from tqdm import tqdm\n",
    "import re\n",
    "import os\n",
    "from scripts.ari import ari_to_features\n",
    "import argparse\n",
    "import logging\n",
    "\n",
    "from spotipy.oauth2 import SpotifyClientCredentials\n",
    "import spotipy\n",
    "\n",
    "logger = logging.getLogger(__name__)"
   ]
  },
  {
   "cell_type": "code",
   "execution_count": 2,
   "id": "99037f37",
   "metadata": {},
   "outputs": [],
   "source": [
    "def get_artist(name):\n",
    "    results = sp.search(q='artist:' + name, type='artist')\n",
    "    items = results['artists']['items']\n",
    "    if len(items) > 0:\n",
    "        return items[0]\n",
    "    else:\n",
    "        return None\n",
    "\n",
    "\n",
    "def show_album_tracks(album):\n",
    "    tracks = []\n",
    "    results = sp.album_tracks(album['id'])\n",
    "    tracks.extend(results['items'])\n",
    "    while results['next']:\n",
    "        results = sp.next(results)\n",
    "        tracks.extend(results['items'])\n",
    "    for i, track in enumerate(tracks):\n",
    "        logger.info('%s. %s', i+1, track['name'])\n",
    "    \n",
    "    return tracks\n",
    "        \n",
    "    \n",
    "\n",
    "\n",
    "def show_artist_albums(artist):\n",
    "    albums = []\n",
    "    trks = []\n",
    "    results = sp.artist_albums(artist['id'], album_type='album')\n",
    "    albums.extend(results['items'])\n",
    "    while results['next']:\n",
    "        results = sp.next(results)\n",
    "        albums.extend(results['items'])\n",
    "    logger.info('Total albums: %s', len(albums))\n",
    "    unique = set()  # skip duplicate albums\n",
    "    for album in albums:\n",
    "        name = album['name'].lower()\n",
    "        if name not in unique:\n",
    "            logger.info('ALBUM: %s', name)\n",
    "            unique.add(name)\n",
    "            trks.extend(show_album_tracks(album))\n",
    "    \n",
    "    return trks\n",
    "\n",
    "\n",
    "def show_artist(artist):\n",
    "    logger.info('====%s====', artist['name'])\n",
    "    logger.info('Popularity: %s', artist['popularity'])\n",
    "    if len(artist['genres']) > 0:\n",
    "        logger.info('Genres: %s', ','.join(artist['genres']))\n",
    "        \n",
    "\n",
    "def get_all_tracks(artist):\n",
    "    \n",
    "    art_d = get_artist(artist)\n",
    "    tracks_df = pd.DataFrame(show_artist_albums(art_d))\n",
    "    return tracks_df"
   ]
  },
  {
   "cell_type": "code",
   "execution_count": 3,
   "id": "ff74074d",
   "metadata": {},
   "outputs": [],
   "source": [
    "df = pd.read_csv('../data/song_features.csv')"
   ]
  },
  {
   "cell_type": "code",
   "execution_count": 4,
   "id": "87e2bddf",
   "metadata": {},
   "outputs": [],
   "source": [
    "# instead of reading directly on the artists column, I processed it to extract the relevant name and Id information.\n",
    "from ast import literal_eval\n",
    "df['artist_name'] = df['artists'].apply(lambda x: literal_eval(x)[0]['name'].lower())\n",
    "df['artist_id'] = df['artists'].apply(lambda x: literal_eval(x)[0]['id'])\n",
    "\n",
    "df['song_label'] = df['artist_name'].apply(lambda x: 1 if x in (\"hiroshi yoshimura\",\"haruomi hosono\",\"hosono haruomi\",\"inoyamaland\") else 0)"
   ]
  },
  {
   "cell_type": "code",
   "execution_count": 5,
   "id": "bcbe913d",
   "metadata": {},
   "outputs": [
    {
     "data": {
      "text/plain": [
       "array(['hiroshi yoshimura', 'inoyamaland', 'endel', 'green-house',\n",
       "       'brian eno', 'robert fripp', 'toto', 'passengers', 'roger eno',\n",
       "       'tom rogerson', 'eno • hyde', 'harmonia', 'david byrne',\n",
       "       'jah wobble', 'james', 'harold budd', 'laraaji', 'jon hassell',\n",
       "       'cluster', 'haruomi hosono', 'hosono haruomi', 'ノンスタンダード合唱団',\n",
       "       '中原香織', 'masataka matsutoya', 'takahiko ishikawa',\n",
       "       'harry hosono & the world shyness', 'shigeru suzuki',\n",
       "       'tatsuro yamashita', 'emily a. sprague', 'lightbath', 'vangelis',\n",
       "       'irina valentinova', 'jon & vangelis', 'kritikes madares',\n",
       "       'psarantonis', 'loudovicos ton anogion', 'irene papas',\n",
       "       'vassilis saleas', 'jon anderson', 'mariangela celeste'],\n",
       "      dtype=object)"
      ]
     },
     "execution_count": 5,
     "metadata": {},
     "output_type": "execute_result"
    }
   ],
   "source": [
    "df['artist_name'].unique()"
   ]
  },
  {
   "cell_type": "code",
   "execution_count": 6,
   "id": "eb64b532",
   "metadata": {},
   "outputs": [],
   "source": [
    "import os\n",
    "client_id = 'e5d27af30b04420baec4921a610d3b4e'\n",
    "secret = '830c1e45c2644274a06c163782ee54f7'\n",
    "redirect = 'http://127.0.0.1:8080'\n",
    "os.environ['SPOTIPY_CLIENT_ID'] = 'e5d27af30b04420baec4921a610d3b4e'\n",
    "os.environ['SPOTIPY_CLIENT_SECRET'] = '830c1e45c2644274a06c163782ee54f7'\n",
    "os.environ['SPOTIPY_REDIRECT_URI'] = 'http://127.0.0.1:8080'"
   ]
  },
  {
   "cell_type": "code",
   "execution_count": null,
   "id": "16ee98a9",
   "metadata": {},
   "outputs": [],
   "source": []
  },
  {
   "cell_type": "code",
   "execution_count": 7,
   "id": "bada73fd",
   "metadata": {},
   "outputs": [],
   "source": [
    "client_credentials_manager = SpotifyClientCredentials()\n",
    "sp = spotipy.Spotify(client_credentials_manager=client_credentials_manager)"
   ]
  },
  {
   "cell_type": "code",
   "execution_count": 8,
   "id": "6e3c0785",
   "metadata": {},
   "outputs": [],
   "source": [
    "#\"inoyamaland\": \"Wasser\",\n",
    "song_dict = {\n",
    "    #artist, song\n",
    "    \"hiroshi yoshimura\": \"Green\",\n",
    "    \"green-house\":\"Chysis\",\n",
    "    \"brian eno\":\"The Plateaux of Mirror\",\n",
    "    \"inoyamaland\":\"Wasser\",\n",
    "    \"haruomi hosono\":\"The endless talking\",\n",
    "    \"hosono haruomi\": \"The endless talking\",\n",
    "    'emily a. sprague':\"Horizon\",\n",
    "    \"vangelis\":\"Blade Runner Blues\"\n",
    "}"
   ]
  },
  {
   "cell_type": "code",
   "execution_count": 9,
   "id": "80a98f84",
   "metadata": {},
   "outputs": [
    {
     "data": {
      "text/plain": [
       "array(['hiroshi yoshimura', 'inoyamaland', 'green-house', 'brian eno',\n",
       "       'haruomi hosono', 'hosono haruomi', 'emily a. sprague', 'vangelis'],\n",
       "      dtype=object)"
      ]
     },
     "execution_count": 9,
     "metadata": {},
     "output_type": "execute_result"
    }
   ],
   "source": [
    "filt_df = df[df[\"artist_name\"].isin(song_dict.keys())]\n",
    "filt_df.artist_name.unique()"
   ]
  },
  {
   "cell_type": "code",
   "execution_count": 10,
   "id": "cdaa41f6",
   "metadata": {},
   "outputs": [],
   "source": [
    "songs_df = filt_df[filt_df['name'].isin(song_dict.values())]"
   ]
  },
  {
   "cell_type": "code",
   "execution_count": 11,
   "id": "a48a6421",
   "metadata": {},
   "outputs": [
    {
     "data": {
      "text/plain": [
       "count    1407.000000\n",
       "mean        0.269723\n",
       "std         0.283332\n",
       "min         0.009090\n",
       "25%         0.039500\n",
       "50%         0.128000\n",
       "75%         0.448500\n",
       "max         0.983000\n",
       "Name: valence, dtype: float64"
      ]
     },
     "execution_count": 11,
     "metadata": {},
     "output_type": "execute_result"
    }
   ],
   "source": [
    "filt_df.valence.describe()"
   ]
  },
  {
   "cell_type": "code",
   "execution_count": 12,
   "id": "bbc72482",
   "metadata": {},
   "outputs": [
    {
     "data": {
      "text/plain": [
       "4    1DGpHnPOpMYY780hcQHmPB\n",
       "Name: artist_id, dtype: object"
      ]
     },
     "execution_count": 12,
     "metadata": {},
     "output_type": "execute_result"
    }
   ],
   "source": [
    "songs_df[songs_df['artist_name'] == \"hiroshi yoshimura\"]['artist_id']"
   ]
  },
  {
   "cell_type": "code",
   "execution_count": 13,
   "id": "f8611bca",
   "metadata": {},
   "outputs": [
    {
     "data": {
      "text/plain": [
       "104    3nYCvyP4RxuKyEKygqxWHy\n",
       "Name: artist_id, dtype: object"
      ]
     },
     "execution_count": 13,
     "metadata": {},
     "output_type": "execute_result"
    }
   ],
   "source": [
    "songs_df[songs_df['artist_name'] == \"inoyamaland\"]['artist_id']"
   ]
  },
  {
   "cell_type": "code",
   "execution_count": 14,
   "id": "cafbb182",
   "metadata": {
    "scrolled": false
   },
   "outputs": [
    {
     "data": {
      "text/plain": [
       "129    0M6QGBKWICr8dxhh3UJW45\n",
       "130    0M6QGBKWICr8dxhh3UJW45\n",
       "131    0M6QGBKWICr8dxhh3UJW45\n",
       "132    0M6QGBKWICr8dxhh3UJW45\n",
       "133    0M6QGBKWICr8dxhh3UJW45\n",
       "134    0M6QGBKWICr8dxhh3UJW45\n",
       "135    0M6QGBKWICr8dxhh3UJW45\n",
       "136    0M6QGBKWICr8dxhh3UJW45\n",
       "137    0M6QGBKWICr8dxhh3UJW45\n",
       "Name: artist_id, dtype: object"
      ]
     },
     "execution_count": 14,
     "metadata": {},
     "output_type": "execute_result"
    }
   ],
   "source": [
    "df[df['artist_name'] == 'green-house']['artist_id']"
   ]
  },
  {
   "cell_type": "code",
   "execution_count": 15,
   "id": "ae56bf0b",
   "metadata": {},
   "outputs": [
    {
     "data": {
      "text/plain": [
       "['0HEzGwip1s4seBM0s4fQhW',\n",
       " '30SZ15hpz4Fgu59FpOybhx',\n",
       " '28GQO7qa54ouDsWDjKtl0n',\n",
       " '575blCgesVtCu0HEYaIcas']"
      ]
     },
     "execution_count": 15,
     "metadata": {},
     "output_type": "execute_result"
    }
   ],
   "source": [
    "songs_df['id'].to_list()"
   ]
  },
  {
   "cell_type": "code",
   "execution_count": 16,
   "id": "8ef87d99",
   "metadata": {
    "scrolled": true
   },
   "outputs": [
    {
     "data": {
      "text/plain": [
       "{'genres': ['acoustic',\n",
       "  'afrobeat',\n",
       "  'alt-rock',\n",
       "  'alternative',\n",
       "  'ambient',\n",
       "  'anime',\n",
       "  'black-metal',\n",
       "  'bluegrass',\n",
       "  'blues',\n",
       "  'bossanova',\n",
       "  'brazil',\n",
       "  'breakbeat',\n",
       "  'british',\n",
       "  'cantopop',\n",
       "  'chicago-house',\n",
       "  'children',\n",
       "  'chill',\n",
       "  'classical',\n",
       "  'club',\n",
       "  'comedy',\n",
       "  'country',\n",
       "  'dance',\n",
       "  'dancehall',\n",
       "  'death-metal',\n",
       "  'deep-house',\n",
       "  'detroit-techno',\n",
       "  'disco',\n",
       "  'disney',\n",
       "  'drum-and-bass',\n",
       "  'dub',\n",
       "  'dubstep',\n",
       "  'edm',\n",
       "  'electro',\n",
       "  'electronic',\n",
       "  'emo',\n",
       "  'folk',\n",
       "  'forro',\n",
       "  'french',\n",
       "  'funk',\n",
       "  'garage',\n",
       "  'german',\n",
       "  'gospel',\n",
       "  'goth',\n",
       "  'grindcore',\n",
       "  'groove',\n",
       "  'grunge',\n",
       "  'guitar',\n",
       "  'happy',\n",
       "  'hard-rock',\n",
       "  'hardcore',\n",
       "  'hardstyle',\n",
       "  'heavy-metal',\n",
       "  'hip-hop',\n",
       "  'holidays',\n",
       "  'honky-tonk',\n",
       "  'house',\n",
       "  'idm',\n",
       "  'indian',\n",
       "  'indie',\n",
       "  'indie-pop',\n",
       "  'industrial',\n",
       "  'iranian',\n",
       "  'j-dance',\n",
       "  'j-idol',\n",
       "  'j-pop',\n",
       "  'j-rock',\n",
       "  'jazz',\n",
       "  'k-pop',\n",
       "  'kids',\n",
       "  'latin',\n",
       "  'latino',\n",
       "  'malay',\n",
       "  'mandopop',\n",
       "  'metal',\n",
       "  'metal-misc',\n",
       "  'metalcore',\n",
       "  'minimal-techno',\n",
       "  'movies',\n",
       "  'mpb',\n",
       "  'new-age',\n",
       "  'new-release',\n",
       "  'opera',\n",
       "  'pagode',\n",
       "  'party',\n",
       "  'philippines-opm',\n",
       "  'piano',\n",
       "  'pop',\n",
       "  'pop-film',\n",
       "  'post-dubstep',\n",
       "  'power-pop',\n",
       "  'progressive-house',\n",
       "  'psych-rock',\n",
       "  'punk',\n",
       "  'punk-rock',\n",
       "  'r-n-b',\n",
       "  'rainy-day',\n",
       "  'reggae',\n",
       "  'reggaeton',\n",
       "  'road-trip',\n",
       "  'rock',\n",
       "  'rock-n-roll',\n",
       "  'rockabilly',\n",
       "  'romance',\n",
       "  'sad',\n",
       "  'salsa',\n",
       "  'samba',\n",
       "  'sertanejo',\n",
       "  'show-tunes',\n",
       "  'singer-songwriter',\n",
       "  'ska',\n",
       "  'sleep',\n",
       "  'songwriter',\n",
       "  'soul',\n",
       "  'soundtracks',\n",
       "  'spanish',\n",
       "  'study',\n",
       "  'summer',\n",
       "  'swedish',\n",
       "  'synth-pop',\n",
       "  'tango',\n",
       "  'techno',\n",
       "  'trance',\n",
       "  'trip-hop',\n",
       "  'turkish',\n",
       "  'work-out',\n",
       "  'world-music']}"
      ]
     },
     "execution_count": 16,
     "metadata": {},
     "output_type": "execute_result"
    }
   ],
   "source": [
    "sp.recommendation_genre_seeds()"
   ]
  },
  {
   "cell_type": "code",
   "execution_count": 18,
   "id": "6ea4afcc",
   "metadata": {},
   "outputs": [],
   "source": [
    "client_credentials_manager = SpotifyClientCredentials()\n",
    "sp = spotipy.Spotify(client_credentials_manager=client_credentials_manager)\n",
    "# seed_artists = [\"1DGpHnPOpMYY780hcQHmPB\",\"3nYCvyP4RxuKyEKygqxWH\",\"0M6QGBKWICr8dxhh3UJW45\"]\n",
    "seed_artsts = [\"1DGpHnPOpMYY780hcQHmPB\",\"0M6QGBKWICr8dxhh3UJW45\"]\n",
    "seed_gnres = [\"ambient\"]\n",
    "#seed_trcks = songs_df['id'].to_list()\n",
    "\n",
    "results = sp.recommendations(seed_artists=seed_artsts,seed_genres=seed_gnres,min_valence=0.44)"
   ]
  },
  {
   "cell_type": "code",
   "execution_count": 20,
   "id": "a8b1cdb7",
   "metadata": {},
   "outputs": [],
   "source": [
    "rec_df = pd.DataFrame(results['tracks'])\n",
    "rec_df['artist_name'] = rec_df['artists'].apply(lambda x: literal_eval(str(x))[0]['name'].lower())\n",
    "rec_df['artist_id'] = rec_df['artists'].apply(lambda x: literal_eval(str(x))[0]['id'])"
   ]
  },
  {
   "cell_type": "code",
   "execution_count": 21,
   "id": "6d52411b",
   "metadata": {},
   "outputs": [
    {
     "data": {
      "text/plain": [
       "array(['the sweet enoughs', 'khotin', 'vegyn', 'brian eno', 'tycho',\n",
       "       'inoyamaland', 'masakatsu takagi', 'sam gendel',\n",
       "       'satoshi & makoto', 'simon farintosh', 'masahiro sugaya', 'arp',\n",
       "       'josiah steinbrick', 'meitei', 'felbm', 'the paper kites',\n",
       "       'hiroshi yoshimura', 'ana roxanne', 'röyksopp', 'scott gilmore'],\n",
       "      dtype=object)"
      ]
     },
     "execution_count": 21,
     "metadata": {},
     "output_type": "execute_result"
    }
   ],
   "source": [
    "rec_df['artist_name'].unique()"
   ]
  },
  {
   "cell_type": "code",
   "execution_count": 135,
   "id": "ab206a54",
   "metadata": {},
   "outputs": [],
   "source": [
    "client_credentials_manager = SpotifyClientCredentials()\n",
    "sp = spotipy.Spotify(client_credentials_manager=client_credentials_manager)\n",
    "# seed_artists = [\"1DGpHnPOpMYY780hcQHmPB\",\"3nYCvyP4RxuKyEKygqxWH\",\"0M6QGBKWICr8dxhh3UJW45\"]\n",
    "seed_artsts = [\"1DGpHnPOpMYY780hcQHmPB\",\"0M6QGBKWICr8dxhh3UJW45\"]\n",
    "seed_gnres = [\"ambient\"]\n",
    "#seed_trcks = songs_df['id'].to_list()\n",
    "\n",
    "results = sp.recommendations(seed_artists=seed_artsts,seed_genres=seed_gnres, min_valence=0.13)"
   ]
  },
  {
   "cell_type": "code",
   "execution_count": 136,
   "id": "00f1d185",
   "metadata": {},
   "outputs": [],
   "source": [
    "rec_df2 = pd.DataFrame(results['tracks'])\n",
    "rec_df2['artist_name'] = rec_df2['artists'].apply(lambda x: literal_eval(str(x))[0]['name'].lower())\n",
    "rec_df2['artist_id'] = rec_df2['artists'].apply(lambda x: literal_eval(str(x))[0]['id'])"
   ]
  },
  {
   "cell_type": "code",
   "execution_count": 137,
   "id": "63413eef",
   "metadata": {},
   "outputs": [
    {
     "data": {
      "text/plain": [
       "array(['mort garson', 'omni gardens', 'autechre', 'li yilei',\n",
       "       'mary lattimore', 'the sweet enoughs', 'swing slow', 'air',\n",
       "       'fuubutsushi', 'mamman sani', 'yellow magic orchestra', 'loscil',\n",
       "       'meitei', 'haruomi hosono', 'harold budd', 'sam gendel',\n",
       "       'naran ratan', 'goldmund', 'h.takahashi', 'c418'], dtype=object)"
      ]
     },
     "execution_count": 137,
     "metadata": {},
     "output_type": "execute_result"
    }
   ],
   "source": [
    "rec_df2['artist_name'].unique()"
   ]
  },
  {
   "cell_type": "markdown",
   "id": "a479e1f8",
   "metadata": {},
   "source": [
    "# Artist Details\n",
    "\n",
    "* name: Michi\n",
    "* artist_uri: 0Cw7Bk8wlbj3HhzzQ6Tnl9\n",
    "* album_id : 42BnqrIhngLi3r7Lo04rOe\n",
    "\n",
    "https://open.spotify.com/album/42BnqrIhngLi3r7Lo04rOe?si=beQk_xdqRiG_jdXEXwdiwg"
   ]
  },
  {
   "cell_type": "code",
   "execution_count": 152,
   "id": "04f662a2",
   "metadata": {
    "scrolled": false
   },
   "outputs": [],
   "source": [
    "client_credentials_manager = SpotifyClientCredentials()\n",
    "sp = spotipy.Spotify(client_credentials_manager=client_credentials_manager)\n",
    "\n",
    "album = {}\n",
    "album['id'] = '42BnqrIhngLi3r7Lo04rOe'\n",
    "mc_df = pd.DataFrame(show_album_tracks(album))"
   ]
  },
  {
   "cell_type": "code",
   "execution_count": 153,
   "id": "30192f12",
   "metadata": {},
   "outputs": [
    {
     "name": "stderr",
     "output_type": "stream",
     "text": [
      "100%|██████████████████████████████████████████████████████████████████████████████████████████████████████████████████████████| 5/5 [00:03<00:00,  1.50it/s]\n"
     ]
    }
   ],
   "source": [
    "featureLIST = []\n",
    "\n",
    "featureLIST = []\n",
    "\n",
    "for i in tqdm([uri for uri in mc_df['id'].unique()]):\n",
    "    try:\n",
    "        featureLIST.append(ari_to_features(i))\n",
    "    except:\n",
    "        continue\n",
    "        \n",
    "mc_f_df = pd.DataFrame(featureLIST)"
   ]
  },
  {
   "cell_type": "code",
   "execution_count": 164,
   "id": "444b0ade",
   "metadata": {},
   "outputs": [],
   "source": [
    "col_int = ['duration_ms_x', 'id', 'name', 'danceability',\n",
    "       'energy', 'key', 'loudness', 'mode', 'speechiness', 'acousticness',\n",
    "       'instrumentalness', 'liveness', 'valence', 'tempo', 'type_y', 'uri_y',\n",
    "       'track_href', 'analysis_url', 'duration_ms_y', 'time_signature',\n",
    "       'artist_pop', 'genres', 'track_pop']"
   ]
  },
  {
   "cell_type": "code",
   "execution_count": 166,
   "id": "cbbd4b26",
   "metadata": {},
   "outputs": [
    {
     "data": {
      "text/html": [
       "<div>\n",
       "<style scoped>\n",
       "    .dataframe tbody tr th:only-of-type {\n",
       "        vertical-align: middle;\n",
       "    }\n",
       "\n",
       "    .dataframe tbody tr th {\n",
       "        vertical-align: top;\n",
       "    }\n",
       "\n",
       "    .dataframe thead th {\n",
       "        text-align: right;\n",
       "    }\n",
       "</style>\n",
       "<table border=\"1\" class=\"dataframe\">\n",
       "  <thead>\n",
       "    <tr style=\"text-align: right;\">\n",
       "      <th></th>\n",
       "      <th>0</th>\n",
       "      <th>1</th>\n",
       "      <th>2</th>\n",
       "      <th>3</th>\n",
       "      <th>4</th>\n",
       "    </tr>\n",
       "  </thead>\n",
       "  <tbody>\n",
       "    <tr>\n",
       "      <th>duration_ms_x</th>\n",
       "      <td>241266</td>\n",
       "      <td>171666</td>\n",
       "      <td>256346</td>\n",
       "      <td>342893</td>\n",
       "      <td>318880</td>\n",
       "    </tr>\n",
       "    <tr>\n",
       "      <th>id</th>\n",
       "      <td>508sfGdc6MTU42OctfkeB5</td>\n",
       "      <td>6TM3KAMu0ImERiFB9Rbkw5</td>\n",
       "      <td>12ByIXvlKwlhQ7DtrGQUsH</td>\n",
       "      <td>2Fa9eEBImzaNeY02GRbdnx</td>\n",
       "      <td>7m1NungNg0qHMnY7WvoiWQ</td>\n",
       "    </tr>\n",
       "    <tr>\n",
       "      <th>name</th>\n",
       "      <td>Field Trips</td>\n",
       "      <td>Coronado</td>\n",
       "      <td>Heartbroken Dolphin</td>\n",
       "      <td>Rodney The Cosmic Entity</td>\n",
       "      <td>Belvedere</td>\n",
       "    </tr>\n",
       "    <tr>\n",
       "      <th>danceability</th>\n",
       "      <td>0.0727</td>\n",
       "      <td>0.425</td>\n",
       "      <td>0.257</td>\n",
       "      <td>0.481</td>\n",
       "      <td>0.225</td>\n",
       "    </tr>\n",
       "    <tr>\n",
       "      <th>energy</th>\n",
       "      <td>0.306</td>\n",
       "      <td>0.305</td>\n",
       "      <td>0.377</td>\n",
       "      <td>0.643</td>\n",
       "      <td>0.386</td>\n",
       "    </tr>\n",
       "    <tr>\n",
       "      <th>key</th>\n",
       "      <td>6</td>\n",
       "      <td>5</td>\n",
       "      <td>9</td>\n",
       "      <td>0</td>\n",
       "      <td>0</td>\n",
       "    </tr>\n",
       "    <tr>\n",
       "      <th>loudness</th>\n",
       "      <td>-15.048</td>\n",
       "      <td>-10.635</td>\n",
       "      <td>-9.508</td>\n",
       "      <td>-9.636</td>\n",
       "      <td>-8.752</td>\n",
       "    </tr>\n",
       "    <tr>\n",
       "      <th>mode</th>\n",
       "      <td>1</td>\n",
       "      <td>1</td>\n",
       "      <td>0</td>\n",
       "      <td>1</td>\n",
       "      <td>1</td>\n",
       "    </tr>\n",
       "    <tr>\n",
       "      <th>speechiness</th>\n",
       "      <td>0.0379</td>\n",
       "      <td>0.0293</td>\n",
       "      <td>0.0308</td>\n",
       "      <td>0.034</td>\n",
       "      <td>0.0462</td>\n",
       "    </tr>\n",
       "    <tr>\n",
       "      <th>acousticness</th>\n",
       "      <td>0.928</td>\n",
       "      <td>0.976</td>\n",
       "      <td>0.785</td>\n",
       "      <td>0.951</td>\n",
       "      <td>0.0779</td>\n",
       "    </tr>\n",
       "    <tr>\n",
       "      <th>instrumentalness</th>\n",
       "      <td>0.977</td>\n",
       "      <td>0.654</td>\n",
       "      <td>0.669</td>\n",
       "      <td>0.925</td>\n",
       "      <td>0.839</td>\n",
       "    </tr>\n",
       "    <tr>\n",
       "      <th>liveness</th>\n",
       "      <td>0.137</td>\n",
       "      <td>0.0939</td>\n",
       "      <td>0.179</td>\n",
       "      <td>0.127</td>\n",
       "      <td>0.106</td>\n",
       "    </tr>\n",
       "    <tr>\n",
       "      <th>valence</th>\n",
       "      <td>0.0689</td>\n",
       "      <td>0.183</td>\n",
       "      <td>0.0432</td>\n",
       "      <td>0.434</td>\n",
       "      <td>0.022</td>\n",
       "    </tr>\n",
       "    <tr>\n",
       "      <th>tempo</th>\n",
       "      <td>77.747</td>\n",
       "      <td>169.811</td>\n",
       "      <td>149.996</td>\n",
       "      <td>114.98</td>\n",
       "      <td>120.08</td>\n",
       "    </tr>\n",
       "    <tr>\n",
       "      <th>type_y</th>\n",
       "      <td>audio_features</td>\n",
       "      <td>audio_features</td>\n",
       "      <td>audio_features</td>\n",
       "      <td>audio_features</td>\n",
       "      <td>audio_features</td>\n",
       "    </tr>\n",
       "    <tr>\n",
       "      <th>uri_y</th>\n",
       "      <td>spotify:track:508sfGdc6MTU42OctfkeB5</td>\n",
       "      <td>spotify:track:6TM3KAMu0ImERiFB9Rbkw5</td>\n",
       "      <td>spotify:track:12ByIXvlKwlhQ7DtrGQUsH</td>\n",
       "      <td>spotify:track:2Fa9eEBImzaNeY02GRbdnx</td>\n",
       "      <td>spotify:track:7m1NungNg0qHMnY7WvoiWQ</td>\n",
       "    </tr>\n",
       "    <tr>\n",
       "      <th>track_href</th>\n",
       "      <td>https://api.spotify.com/v1/tracks/508sfGdc6MTU...</td>\n",
       "      <td>https://api.spotify.com/v1/tracks/6TM3KAMu0ImE...</td>\n",
       "      <td>https://api.spotify.com/v1/tracks/12ByIXvlKwlh...</td>\n",
       "      <td>https://api.spotify.com/v1/tracks/2Fa9eEBImzaN...</td>\n",
       "      <td>https://api.spotify.com/v1/tracks/7m1NungNg0qH...</td>\n",
       "    </tr>\n",
       "    <tr>\n",
       "      <th>analysis_url</th>\n",
       "      <td>https://api.spotify.com/v1/audio-analysis/508s...</td>\n",
       "      <td>https://api.spotify.com/v1/audio-analysis/6TM3...</td>\n",
       "      <td>https://api.spotify.com/v1/audio-analysis/12By...</td>\n",
       "      <td>https://api.spotify.com/v1/audio-analysis/2Fa9...</td>\n",
       "      <td>https://api.spotify.com/v1/audio-analysis/7m1N...</td>\n",
       "    </tr>\n",
       "    <tr>\n",
       "      <th>duration_ms_y</th>\n",
       "      <td>241267</td>\n",
       "      <td>171667</td>\n",
       "      <td>256347</td>\n",
       "      <td>342893</td>\n",
       "      <td>318880</td>\n",
       "    </tr>\n",
       "    <tr>\n",
       "      <th>time_signature</th>\n",
       "      <td>4</td>\n",
       "      <td>3</td>\n",
       "      <td>4</td>\n",
       "      <td>4</td>\n",
       "      <td>4</td>\n",
       "    </tr>\n",
       "    <tr>\n",
       "      <th>artist_pop</th>\n",
       "      <td>1</td>\n",
       "      <td>1</td>\n",
       "      <td>1</td>\n",
       "      <td>1</td>\n",
       "      <td>1</td>\n",
       "    </tr>\n",
       "    <tr>\n",
       "      <th>genres</th>\n",
       "      <td>unknown</td>\n",
       "      <td>unknown</td>\n",
       "      <td>unknown</td>\n",
       "      <td>unknown</td>\n",
       "      <td>unknown</td>\n",
       "    </tr>\n",
       "    <tr>\n",
       "      <th>track_pop</th>\n",
       "      <td>3</td>\n",
       "      <td>2</td>\n",
       "      <td>2</td>\n",
       "      <td>2</td>\n",
       "      <td>2</td>\n",
       "    </tr>\n",
       "  </tbody>\n",
       "</table>\n",
       "</div>"
      ],
      "text/plain": [
       "                                                                  0  \\\n",
       "duration_ms_x                                                241266   \n",
       "id                                           508sfGdc6MTU42OctfkeB5   \n",
       "name                                                    Field Trips   \n",
       "danceability                                                 0.0727   \n",
       "energy                                                        0.306   \n",
       "key                                                               6   \n",
       "loudness                                                    -15.048   \n",
       "mode                                                              1   \n",
       "speechiness                                                  0.0379   \n",
       "acousticness                                                  0.928   \n",
       "instrumentalness                                              0.977   \n",
       "liveness                                                      0.137   \n",
       "valence                                                      0.0689   \n",
       "tempo                                                        77.747   \n",
       "type_y                                               audio_features   \n",
       "uri_y                          spotify:track:508sfGdc6MTU42OctfkeB5   \n",
       "track_href        https://api.spotify.com/v1/tracks/508sfGdc6MTU...   \n",
       "analysis_url      https://api.spotify.com/v1/audio-analysis/508s...   \n",
       "duration_ms_y                                                241267   \n",
       "time_signature                                                    4   \n",
       "artist_pop                                                        1   \n",
       "genres                                                      unknown   \n",
       "track_pop                                                         3   \n",
       "\n",
       "                                                                  1  \\\n",
       "duration_ms_x                                                171666   \n",
       "id                                           6TM3KAMu0ImERiFB9Rbkw5   \n",
       "name                                                       Coronado   \n",
       "danceability                                                  0.425   \n",
       "energy                                                        0.305   \n",
       "key                                                               5   \n",
       "loudness                                                    -10.635   \n",
       "mode                                                              1   \n",
       "speechiness                                                  0.0293   \n",
       "acousticness                                                  0.976   \n",
       "instrumentalness                                              0.654   \n",
       "liveness                                                     0.0939   \n",
       "valence                                                       0.183   \n",
       "tempo                                                       169.811   \n",
       "type_y                                               audio_features   \n",
       "uri_y                          spotify:track:6TM3KAMu0ImERiFB9Rbkw5   \n",
       "track_href        https://api.spotify.com/v1/tracks/6TM3KAMu0ImE...   \n",
       "analysis_url      https://api.spotify.com/v1/audio-analysis/6TM3...   \n",
       "duration_ms_y                                                171667   \n",
       "time_signature                                                    3   \n",
       "artist_pop                                                        1   \n",
       "genres                                                      unknown   \n",
       "track_pop                                                         2   \n",
       "\n",
       "                                                                  2  \\\n",
       "duration_ms_x                                                256346   \n",
       "id                                           12ByIXvlKwlhQ7DtrGQUsH   \n",
       "name                                            Heartbroken Dolphin   \n",
       "danceability                                                  0.257   \n",
       "energy                                                        0.377   \n",
       "key                                                               9   \n",
       "loudness                                                     -9.508   \n",
       "mode                                                              0   \n",
       "speechiness                                                  0.0308   \n",
       "acousticness                                                  0.785   \n",
       "instrumentalness                                              0.669   \n",
       "liveness                                                      0.179   \n",
       "valence                                                      0.0432   \n",
       "tempo                                                       149.996   \n",
       "type_y                                               audio_features   \n",
       "uri_y                          spotify:track:12ByIXvlKwlhQ7DtrGQUsH   \n",
       "track_href        https://api.spotify.com/v1/tracks/12ByIXvlKwlh...   \n",
       "analysis_url      https://api.spotify.com/v1/audio-analysis/12By...   \n",
       "duration_ms_y                                                256347   \n",
       "time_signature                                                    4   \n",
       "artist_pop                                                        1   \n",
       "genres                                                      unknown   \n",
       "track_pop                                                         2   \n",
       "\n",
       "                                                                  3  \\\n",
       "duration_ms_x                                                342893   \n",
       "id                                           2Fa9eEBImzaNeY02GRbdnx   \n",
       "name                                       Rodney The Cosmic Entity   \n",
       "danceability                                                  0.481   \n",
       "energy                                                        0.643   \n",
       "key                                                               0   \n",
       "loudness                                                     -9.636   \n",
       "mode                                                              1   \n",
       "speechiness                                                   0.034   \n",
       "acousticness                                                  0.951   \n",
       "instrumentalness                                              0.925   \n",
       "liveness                                                      0.127   \n",
       "valence                                                       0.434   \n",
       "tempo                                                        114.98   \n",
       "type_y                                               audio_features   \n",
       "uri_y                          spotify:track:2Fa9eEBImzaNeY02GRbdnx   \n",
       "track_href        https://api.spotify.com/v1/tracks/2Fa9eEBImzaN...   \n",
       "analysis_url      https://api.spotify.com/v1/audio-analysis/2Fa9...   \n",
       "duration_ms_y                                                342893   \n",
       "time_signature                                                    4   \n",
       "artist_pop                                                        1   \n",
       "genres                                                      unknown   \n",
       "track_pop                                                         2   \n",
       "\n",
       "                                                                  4  \n",
       "duration_ms_x                                                318880  \n",
       "id                                           7m1NungNg0qHMnY7WvoiWQ  \n",
       "name                                                      Belvedere  \n",
       "danceability                                                  0.225  \n",
       "energy                                                        0.386  \n",
       "key                                                               0  \n",
       "loudness                                                     -8.752  \n",
       "mode                                                              1  \n",
       "speechiness                                                  0.0462  \n",
       "acousticness                                                 0.0779  \n",
       "instrumentalness                                              0.839  \n",
       "liveness                                                      0.106  \n",
       "valence                                                       0.022  \n",
       "tempo                                                        120.08  \n",
       "type_y                                               audio_features  \n",
       "uri_y                          spotify:track:7m1NungNg0qHMnY7WvoiWQ  \n",
       "track_href        https://api.spotify.com/v1/tracks/7m1NungNg0qH...  \n",
       "analysis_url      https://api.spotify.com/v1/audio-analysis/7m1N...  \n",
       "duration_ms_y                                                318880  \n",
       "time_signature                                                    4  \n",
       "artist_pop                                                        1  \n",
       "genres                                                      unknown  \n",
       "track_pop                                                         2  "
      ]
     },
     "execution_count": 166,
     "metadata": {},
     "output_type": "execute_result"
    }
   ],
   "source": [
    "mc_f_t = mc_df.merge(mc_f_df, on='id',how='left')\n",
    "mc_f_t[col_int].T"
   ]
  },
  {
   "cell_type": "markdown",
   "id": "9c312387",
   "metadata": {},
   "source": [
    "# Recommendation Experiments\n",
    "\n",
    "seed_limit : 5\n",
    "min_valuence: (min_songs, mean ?)\n"
   ]
  },
  {
   "cell_type": "markdown",
   "id": "6d037bf3",
   "metadata": {},
   "source": [
    "## Strategy 1\n",
    "Generate playlist using the artist as an inspiration with other artists"
   ]
  },
  {
   "cell_type": "code",
   "execution_count": 167,
   "id": "8ae7eb4b",
   "metadata": {},
   "outputs": [],
   "source": [
    "client_credentials_manager = SpotifyClientCredentials()\n",
    "sp = spotipy.Spotify(client_credentials_manager=client_credentials_manager)\n",
    "# seed_artists = [\"1DGpHnPOpMYY780hcQHmPB\",\"3nYCvyP4RxuKyEKygqxWH\",\"0M6QGBKWICr8dxhh3UJW45\"]\n",
    "seed_artsts = [\"0Cw7Bk8wlbj3HhzzQ6Tnl9\",\"1DGpHnPOpMYY780hcQHmPB\",\"0M6QGBKWICr8dxhh3UJW45\"]\n",
    "seed_gnres = [\"ambient\"]\n",
    "#seed_trcks = songs_df['id'].to_list()\n",
    "\n",
    "results = sp.recommendations(seed_artists=seed_artsts,seed_genres=seed_gnres, min_valence=0.13)"
   ]
  },
  {
   "cell_type": "code",
   "execution_count": 169,
   "id": "30ec10c8",
   "metadata": {},
   "outputs": [],
   "source": [
    "rec_df2 = pd.DataFrame(results['tracks'])\n",
    "rec_df2['artist_name'] = rec_df2['artists'].apply(lambda x: literal_eval(str(x))[0]['name'].lower())\n",
    "rec_df2['artist_id'] = rec_df2['artists'].apply(lambda x: literal_eval(str(x))[0]['id'])"
   ]
  },
  {
   "cell_type": "code",
   "execution_count": 176,
   "id": "52ed6b5a",
   "metadata": {},
   "outputs": [
    {
     "data": {
      "text/plain": [
       "['33YGJVIZ7GLblVj21ccJky',\n",
       " '1bavi9ei7E4AGBJdophqO4',\n",
       " '7hyAAjHZaDWSPDzlUYNUIa',\n",
       " '7FhHFW6ghJbgLFYK7YpHaJ',\n",
       " '5c8A84d753jlBaLnsVnYR5',\n",
       " '061p2ZMjkvKtbuc5swDz5t',\n",
       " '7vXNtGqGhGh1w8zdcxLZMG',\n",
       " '67f7JzATvVr4vPbCd0fuAK',\n",
       " '3I6IMWZJ9FkTcUCKBrzlkh',\n",
       " '3WxSMo4Vsi20AzPMua3Wss',\n",
       " '0vdc5g7Z2kxlGMbEHQiQNo',\n",
       " '6Mk96t3t5qR5YJ8ftCW18V',\n",
       " '71wMg6idF6wrnILEFsikwI',\n",
       " '4teMs89Ve9uA3BekDMKGU6',\n",
       " '6mESobRGEJZZAPF0pHzREQ',\n",
       " '1dAMDU9RbPExP4uF0GkD52',\n",
       " '3sdkizwy9pJJABWimxp6Hu',\n",
       " '2cX0OJh1FENek9cfukulSQ',\n",
       " '2IcfPUAS555hfKxcuHUUXr',\n",
       " '63ZyPUR8NqWgonSM6RsWp0']"
      ]
     },
     "execution_count": 176,
     "metadata": {},
     "output_type": "execute_result"
    }
   ],
   "source": [
    "rec_df2['id'].to_list()"
   ]
  },
  {
   "cell_type": "code",
   "execution_count": 173,
   "id": "1f594f17",
   "metadata": {},
   "outputs": [
    {
     "data": {
      "text/plain": [
       "{'collaborative': False,\n",
       " 'description': None,\n",
       " 'external_urls': {'spotify': 'https://open.spotify.com/playlist/3l86yGS5qGRFrwgvasDMev'},\n",
       " 'followers': {'href': None, 'total': 0},\n",
       " 'href': 'https://api.spotify.com/v1/playlists/3l86yGS5qGRFrwgvasDMev',\n",
       " 'id': '3l86yGS5qGRFrwgvasDMev',\n",
       " 'images': [],\n",
       " 'name': 'ambient_recc',\n",
       " 'owner': {'display_name': 'anand_dw',\n",
       "  'external_urls': {'spotify': 'https://open.spotify.com/user/anand_dw'},\n",
       "  'href': 'https://api.spotify.com/v1/users/anand_dw',\n",
       "  'id': 'anand_dw',\n",
       "  'type': 'user',\n",
       "  'uri': 'spotify:user:anand_dw'},\n",
       " 'primary_color': None,\n",
       " 'public': True,\n",
       " 'snapshot_id': 'MSw1NDBjN2MyNWM4OWNjN2VlYTg2ZTdlOTg2Njk1NGY2NjM1YjNjNmRk',\n",
       " 'tracks': {'href': 'https://api.spotify.com/v1/playlists/3l86yGS5qGRFrwgvasDMev/tracks',\n",
       "  'items': [],\n",
       "  'limit': 100,\n",
       "  'next': None,\n",
       "  'offset': 0,\n",
       "  'previous': None,\n",
       "  'total': 0},\n",
       " 'type': 'playlist',\n",
       " 'uri': 'spotify:playlist:3l86yGS5qGRFrwgvasDMev'}"
      ]
     },
     "execution_count": 173,
     "metadata": {},
     "output_type": "execute_result"
    }
   ],
   "source": [
    "from spotipy.oauth2 import SpotifyOAuth\n",
    "scope = 'playlist-modify-public'\n",
    "scope = \"playlist-modify-public\"\n",
    "sp = spotipy.Spotify(auth_manager=SpotifyOAuth(scope=scope))\n",
    "user_id = sp.me()['id']\n",
    "sp.user_playlist_create(user_id, \"ambient_recc\")"
   ]
  },
  {
   "cell_type": "markdown",
   "id": "059d2776",
   "metadata": {},
   "source": [
    "{'collaborative': False,\n",
    " 'description': None,\n",
    " 'external_urls': {'spotify': 'https://open.spotify.com/playlist/3l86yGS5qGRFrwgvasDMev'},\n",
    " 'followers': {'href': None, 'total': 0},\n",
    " 'href': 'https://api.spotify.com/v1/playlists/3l86yGS5qGRFrwgvasDMev',\n",
    " 'id': '3l86yGS5qGRFrwgvasDMev',\n",
    " 'images': [],\n",
    " 'name': 'ambient_recc',\n",
    " 'owner': {'display_name': 'anand_dw',\n",
    "  'external_urls': {'spotify': 'https://open.spotify.com/user/anand_dw'},\n",
    "  'href': 'https://api.spotify.com/v1/users/anand_dw',\n",
    "  'id': 'anand_dw',\n",
    "  'type': 'user',\n",
    "  'uri': 'spotify:user:anand_dw'},\n",
    " 'primary_color': None,\n",
    " 'public': True,\n",
    " 'snapshot_id': 'MSw1NDBjN2MyNWM4OWNjN2VlYTg2ZTdlOTg2Njk1NGY2NjM1YjNjNmRk',\n",
    " 'tracks': {'href': 'https://api.spotify.com/v1/playlists/3l86yGS5qGRFrwgvasDMev/tracks',\n",
    "  'items': [],\n",
    "  'limit': 100,\n",
    "  'next': None,\n",
    "  'offset': 0,\n",
    "  'previous': None,\n",
    "  'total': 0},\n",
    " 'type': 'playlist',\n",
    " 'uri': 'spotify:playlist:3l86yGS5qGRFrwgvasDMev'}"
   ]
  },
  {
   "cell_type": "code",
   "execution_count": 177,
   "id": "dd972b3c",
   "metadata": {},
   "outputs": [
    {
     "data": {
      "text/plain": [
       "{'snapshot_id': 'MixkOTdhZjBhZjM4YzFmMmYzMDNkMjUzZTZhNTAxMjRhOWM3MWU3OTYx'}"
      ]
     },
     "execution_count": 177,
     "metadata": {},
     "output_type": "execute_result"
    }
   ],
   "source": [
    "scope = \"playlist-modify-public\"\n",
    "sp = spotipy.Spotify(auth_manager=SpotifyOAuth(scope=scope))\n",
    "user_id = sp.me()['id']\n",
    "sp.playlist_add_items('3l86yGS5qGRFrwgvasDMev', rec_df2['id'].to_list())"
   ]
  },
  {
   "cell_type": "code",
   "execution_count": null,
   "id": "266affe2",
   "metadata": {},
   "outputs": [],
   "source": []
  }
 ],
 "metadata": {
  "kernelspec": {
   "display_name": "Python 3 (ipykernel)",
   "language": "python",
   "name": "python3"
  },
  "language_info": {
   "codemirror_mode": {
    "name": "ipython",
    "version": 3
   },
   "file_extension": ".py",
   "mimetype": "text/x-python",
   "name": "python",
   "nbconvert_exporter": "python",
   "pygments_lexer": "ipython3",
   "version": "3.9.13"
  }
 },
 "nbformat": 4,
 "nbformat_minor": 5
}
